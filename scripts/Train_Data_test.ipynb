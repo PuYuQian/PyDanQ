{
 "cells": [
  {
   "cell_type": "code",
   "execution_count": null,
   "metadata": {},
   "outputs": [],
   "source": [
    "import numpy as np"
   ]
  },
  {
   "cell_type": "code",
   "execution_count": null,
   "metadata": {},
   "outputs": [],
   "source": [
    "train_label = np.load('data/train_full.npy')"
   ]
  },
  {
   "cell_type": "code",
   "execution_count": null,
   "metadata": {},
   "outputs": [],
   "source": [
    "train_data = np.load('data/trainx_full.npy')"
   ]
  },
  {
   "cell_type": "markdown",
   "metadata": {},
   "source": [
    "# 通过排序找到分割点"
   ]
  },
  {
   "cell_type": "code",
   "execution_count": null,
   "metadata": {},
   "outputs": [],
   "source": [
    "num_list = []\n",
    "\n",
    "for i in range(0, 4400000):\n",
    "    a_list = train_label[i,:].tolist()\n",
    "    set(a_list)\n",
    "    res_1 = a_list.count(1)\n",
    "    num_list.append(res_1)\n",
    "\n",
    "num_list.sort(reverse=True)\n",
    "\n",
    "with open('res_row.txt','w') as f:\n",
    "    f.write(str(num_list[0:400000]))\n",
    "\n",
    "print('OK!')"
   ]
  },
  {
   "cell_type": "markdown",
   "metadata": {},
   "source": [
    "# 通过分割点输出样本序号"
   ]
  },
  {
   "cell_type": "code",
   "execution_count": null,
   "metadata": {},
   "outputs": [],
   "source": [
    "num_list = []\n",
    "\n",
    "for i in range(0, 4400000):\n",
    "    a_list = train_label[i,:].tolist()\n",
    "    set(a_list)\n",
    "    res_1 = a_list.count(1)\n",
    "    if res_1 > 53:\n",
    "        num_list.append(i)\n",
    "\n",
    "with open('need_row.txt','w') as f:\n",
    "    f.write(str(num_list))\n",
    "\n",
    "print('ok')"
   ]
  },
  {
   "cell_type": "code",
   "execution_count": null,
   "metadata": {},
   "outputs": [],
   "source": [
    "print(len(num_list))"
   ]
  },
  {
   "cell_type": "markdown",
   "metadata": {},
   "source": [
    "# 查找某一类别下的样本序号"
   ]
  },
  {
   "cell_type": "code",
   "execution_count": null,
   "metadata": {},
   "outputs": [],
   "source": [
    "with open('data_556.txt','w') as f:\n",
    "    for i in range(0, 4400000):\n",
    "        if train_label[i, 556] == 1 :\n",
    "            f.write(str(i)+' ')\n",
    "print('OK')"
   ]
  },
  {
   "cell_type": "markdown",
   "metadata": {},
   "source": [
    "# 读取样本序号并转换为int型list"
   ]
  },
  {
   "cell_type": "code",
   "execution_count": null,
   "metadata": {},
   "outputs": [],
   "source": [
    "result = []\n",
    "with open('data_556.txt','r') as f:\n",
    "    for line in f.readlines():\n",
    "        tmp = line.strip(' ').split(' ')\n",
    "        for i in range(0, len(tmp)):\n",
    "            result.append(tmp[i])\n",
    "print(len(result))\n",
    "result = list(map(int, result))\n",
    "#print(result)"
   ]
  },
  {
   "cell_type": "markdown",
   "metadata": {},
   "source": [
    "# 提取对应序号的样本"
   ]
  },
  {
   "cell_type": "code",
   "execution_count": null,
   "metadata": {},
   "outputs": [],
   "source": [
    "SIZE = 130\n",
    "trainydata=np.zeros([SIZE, 919]) \n",
    "for i in range(0,SIZE):\n",
    "    trainydata[i, :] = train_label[result[i], :]\n",
    "np.save(\"trainydata_bala_556.npy\", trainydata)\n",
    "print('ok')"
   ]
  },
  {
   "cell_type": "code",
   "execution_count": null,
   "metadata": {},
   "outputs": [],
   "source": [
    "trainxdata=np.zeros([SIZE, 4, 1000]) \n",
    "for i in range(0,SIZE):\n",
    "    trainxdata[i, :, :] = train_data[result[i], :, :]\n",
    "np.save(\"trainxdata_bala_556.npy\", trainxdata)\n",
    "print('ok')"
   ]
  },
  {
   "cell_type": "markdown",
   "metadata": {},
   "source": [
    "# 检测生成的平衡数据"
   ]
  },
  {
   "cell_type": "code",
   "execution_count": null,
   "metadata": {},
   "outputs": [],
   "source": [
    "train_label = np.load('trainydata_bala_full.npy')"
   ]
  },
  {
   "cell_type": "code",
   "execution_count": null,
   "metadata": {},
   "outputs": [],
   "source": [
    "with open(\"res_row_bala_full_2.txt\", \"w\") as f:\n",
    "    for i in range(0, 440470):\n",
    "        a_list = train_label[i, :].tolist()\n",
    "        # print(a)\n",
    "        set(a_list)\n",
    "        res_0 = a_list.count(0)\n",
    "        res_1 = a_list.count(1)\n",
    "        #print('0:', res_0, '1:', res_1)\n",
    "\n",
    "        res_row = str(res_0) + '    ' + str(res_1) + '\\n'\n",
    "        f.write(res_row)\n",
    "i = 0\n",
    "#print(a_list)\n",
    "a_list = []\n",
    "#print(a_list)\n",
    "print('ok')\n",
    "\n",
    "with open(\"res_column_bala_full_2.txt\", \"w\") as f:\n",
    "    for i in range(0, 919):\n",
    "        a_list = train_label[:, i].tolist()\n",
    "        # print(a)\n",
    "        set(a_list)\n",
    "        res_0 = a_list.count(0)\n",
    "        res_1 = a_list.count(1)\n",
    "        #print('0:', res_0, '1:', res_1)\n",
    "\n",
    "        res_column = str(res_0) + '    ' + str(res_1) + '\\n'\n",
    "        f.write(res_column)\n",
    "\n",
    "print('ok')"
   ]
  },
  {
   "cell_type": "code",
   "execution_count": null,
   "metadata": {},
   "outputs": [],
   "source": [
    "for i in range(0, 919):\n",
    "    a_list = train_label[:, i].tolist()\n",
    "    # print(a)\n",
    "    set(a_list)\n",
    "    res_1 = a_list.count(1)\n",
    "    if res_1 < 3000 :\n",
    "        sol = str(i) + ' ' + str(res_1)\n",
    "        print(sol)"
   ]
  },
  {
   "cell_type": "markdown",
   "metadata": {},
   "source": [
    "# 合并若干npy文件"
   ]
  },
  {
   "cell_type": "code",
   "execution_count": null,
   "metadata": {},
   "outputs": [],
   "source": [
    "import numpy as np\n",
    "od = np.load('traindata.npy')\n",
    "print('OK')\n",
    "tmp = np.load('trainydata_bala_556.npy')\n",
    "print('OK')\n",
    "new = np.vstack((od, tmp))\n",
    "print('OK')\n",
    "np.save('traindata.npy', new)\n",
    "print('OK')"
   ]
  },
  {
   "cell_type": "code",
   "execution_count": null,
   "metadata": {},
   "outputs": [],
   "source": [
    "import numpy as np\n",
    "tr_data = np.load('traindata.npy')\n",
    "print(tr_data.shape)"
   ]
  }
 ],
 "metadata": {
  "kernelspec": {
   "display_name": "Python 3",
   "language": "python",
   "name": "python3"
  },
  "language_info": {
   "codemirror_mode": {
    "name": "ipython",
    "version": 3
   },
   "file_extension": ".py",
   "mimetype": "text/x-python",
   "name": "python",
   "nbconvert_exporter": "python",
   "pygments_lexer": "ipython3",
   "version": "3.6.8"
  }
 },
 "nbformat": 4,
 "nbformat_minor": 2
}
