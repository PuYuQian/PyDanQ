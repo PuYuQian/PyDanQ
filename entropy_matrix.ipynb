{
 "cells": [
  {
   "cell_type": "code",
   "execution_count": 1,
   "metadata": {},
   "outputs": [],
   "source": [
    "import scipy.io\n",
    "import torch\n",
    "import numpy as np\n",
    "import torch.nn as nn\n",
    "import torch.utils.data as Data\n",
    "import matplotlib.pyplot as plt\n",
    "import torch.nn.functional as F\n",
    "import math\n",
    "#from tensorboardX import SummaryWriter\n",
    "from sklearn.metrics import roc_auc_score,roc_curve,auc,average_precision_score,precision_recall_curve\n",
    "torch.manual_seed(1337)\n",
    "np.random.seed(1337)\n",
    "torch.cuda.manual_seed(1337)\n",
    "torch.backends.cudnn.benchmark=True"
   ]
  },
  {
   "cell_type": "code",
   "execution_count": 2,
   "metadata": {},
   "outputs": [
    {
     "name": "stdout",
     "output_type": "stream",
     "text": [
      "starting loading the data\n"
     ]
    }
   ],
   "source": [
    "print('starting loading the data')\n",
    "np_test_data = scipy.io.loadmat('test.mat')"
   ]
  },
  {
   "cell_type": "code",
   "execution_count": 3,
   "metadata": {},
   "outputs": [],
   "source": [
    "y_test_Pol2 = np_test_data['testdata'][:, [332,354,408,431,432,433,451,453,455,457,459,461,463]].sum(axis=1) > 0\n",
    "\n",
    "X_test_NRSF = np_test_data['testxdata'][y_test_Pol2]"
   ]
  },
  {
   "cell_type": "code",
   "execution_count": 4,
   "metadata": {},
   "outputs": [
    {
     "name": "stdout",
     "output_type": "stream",
     "text": [
      "compling the network\n"
     ]
    }
   ],
   "source": [
    "print('compling the network')\n",
    "class DanQ(nn.Module):\n",
    "    def __init__(self, ):\n",
    "        super(DanQ, self).__init__()\n",
    "        self.Conv1 = nn.Conv1d(in_channels=4, out_channels=320, kernel_size=13)\n",
    "        #nn.init.uniform_(self.Conv1.weight, -0.05, 0.05)\n",
    "        self.Maxpool = nn.MaxPool1d(kernel_size=13, stride=6)\n",
    "        self.Drop1 = nn.Dropout(p=0.2)\n",
    "        self.BiLSTM = nn.LSTM(input_size=320, hidden_size=320, num_layers=2,\n",
    "                                 batch_first=True,\n",
    "                                 dropout=0.5,\n",
    "                                 bidirectional=True)\n",
    "        self.Linear1 = nn.Linear(163*640, 925)\n",
    "        self.Linear2 = nn.Linear(925, 919)\n",
    "\n",
    "\n",
    "    def forward(self, input):\n",
    "        x = self.Conv1(input)\n",
    "        x1 = F.relu(x)\n",
    "        x = self.Maxpool(x1)\n",
    "        x = self.Drop1(x)\n",
    "        x_x = torch.transpose(x, 1, 2)\n",
    "        x, (h_n,h_c) = self.BiLSTM(x_x)\n",
    "        #x, h_n = self.BiGRU(x_x)\n",
    "        x = x.contiguous().view(-1, 163*640)\n",
    "        x = self.Linear1(x)\n",
    "        x = F.relu(x)\n",
    "        x = self.Linear2(x)\n",
    "        #x = torch.sigmoid(x)\n",
    "        return x1,x\n",
    "\n",
    "danq = DanQ()\n",
    "danq.load_state_dict(torch.load('model/model0512_2/danq_net_params_4.pkl'))"
   ]
  },
  {
   "cell_type": "code",
   "execution_count": 5,
   "metadata": {},
   "outputs": [],
   "source": [
    "motifs = np.zeros((320, 4, 13))\n",
    "nsites = np.zeros(320)\n",
    "danq.eval()\n",
    "for i in range(0, len(X_test_NRSF), 100):\n",
    "    x = X_test_NRSF[i:i+100]\n",
    "    x_tensor = torch.FloatTensor(x)\n",
    "    #print(seq.shape)\n",
    "    conv_output, _ = danq(x_tensor)\n",
    "    max_inds = np.argmax(conv_output.cpu().detach().numpy().data, axis=2)\n",
    "    max_acts = np.max(conv_output.cpu().detach().numpy().data, axis=2)\n",
    "    #print(max_inds.shape)\n",
    "    #print(max_acts.shape)\n",
    "    for m in range(320):\n",
    "        for n in range(len(x)):\n",
    "            if max_acts[n, m] > 0:\n",
    "                nsites[m] += 1\n",
    "                motifs[m] += x[n, :, max_inds[n, m]:max_inds[n, m]+13]"
   ]
  },
  {
   "cell_type": "code",
   "execution_count": 6,
   "metadata": {},
   "outputs": [
    {
     "name": "stdout",
     "output_type": "stream",
     "text": [
      "(320, 13, 4)\n",
      "Making motifs\n"
     ]
    }
   ],
   "source": [
    "motifs_trans = np.transpose(motifs,(0, 2, 1))\n",
    "print(motifs_trans.shape)\n",
    "print('Making motifs')\n",
    "\n",
    "motifs = motifs_trans[:, :, [0, 2, 1, 3]]\n",
    "\n",
    "for st in range(0,4):\n",
    "    motifs_file = open('motifs_Pol2_heatmap_%s.txt' % str(st), 'w')\n",
    "    for m in range(320):\n",
    "        if nsites[m] == 0:\n",
    "            continue\n",
    "        for j in range(13):\n",
    "            p = 1.0 * motifs[m, j, 0:4] / np.sum(motifs[m, j, 0:4])\n",
    "            if p[st]==0:\n",
    "                entropy = 0\n",
    "            else:\n",
    "                entropy = (-p[st])*math.log(p[st],2)\n",
    "            motifs_file.write(\"%.5f\\t\" % entropy)\n",
    "        motifs_file.write('\\n')\n",
    "\n",
    "    motifs_file.close()"
   ]
  },
  {
   "cell_type": "code",
   "execution_count": 7,
   "metadata": {},
   "outputs": [],
   "source": [
    "motifs_file = open('motifs_Pol2_heatmap_sum.txt', 'w')\n",
    "for m in range(320):\n",
    "    if nsites[m] == 0:\n",
    "        continue\n",
    "    for j in range(13):\n",
    "        p = 1.0 * motifs[m, j, 0:4] / np.sum(motifs[m, j, 0:4])\n",
    "        for st in range(0,4):\n",
    "            if p[st]==0 or p[st]==1:\n",
    "                continue\n",
    "            else:\n",
    "                entropy += (-p[st])*math.log(p[st],2)\n",
    "        motifs_file.write(\"%.5f\\t\" % entropy)\n",
    "        entropy = 0  \n",
    "    motifs_file.write('\\n')\n",
    "\n",
    "motifs_file.close()"
   ]
  },
  {
   "cell_type": "code",
   "execution_count": 23,
   "metadata": {},
   "outputs": [
    {
     "data": {
      "text/plain": [
       "0.4645016149106253"
      ]
     },
     "execution_count": 23,
     "metadata": {},
     "output_type": "execute_result"
    }
   ],
   "source": [
    "i = 0.200132\n",
    "(-i)*math.log(i,2)"
   ]
  }
 ],
 "metadata": {
  "kernelspec": {
   "display_name": "Python 3",
   "language": "python",
   "name": "python3"
  },
  "language_info": {
   "codemirror_mode": {
    "name": "ipython",
    "version": 3
   },
   "file_extension": ".py",
   "mimetype": "text/x-python",
   "name": "python",
   "nbconvert_exporter": "python",
   "pygments_lexer": "ipython3",
   "version": "3.6.8"
  }
 },
 "nbformat": 4,
 "nbformat_minor": 2
}
