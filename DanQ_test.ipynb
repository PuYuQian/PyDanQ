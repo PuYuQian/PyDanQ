{
 "cells": [
  {
   "cell_type": "code",
   "execution_count": 1,
   "metadata": {},
   "outputs": [],
   "source": [
    "import scipy.io\n",
    "import torch\n",
    "import numpy as np\n",
    "import torch.nn as nn\n",
    "import torch.utils.data as Data\n",
    "import matplotlib.pyplot as plt\n",
    "import torch.nn.functional as F\n",
    "#from tensorboardX import SummaryWriter\n",
    "from sklearn.metrics import roc_auc_score,roc_curve,auc,average_precision_score,precision_recall_curve\n",
    "torch.manual_seed(1337)\n",
    "np.random.seed(1337)\n",
    "torch.cuda.manual_seed(1337)\n",
    "torch.backends.cudnn.benchmark=True"
   ]
  },
  {
   "cell_type": "markdown",
   "metadata": {},
   "source": [
    "# when loading the pred file directly"
   ]
  },
  {
   "cell_type": "code",
   "execution_count": null,
   "metadata": {},
   "outputs": [],
   "source": [
    "print('starting loading the data')\n",
    "np_test_data = scipy.io.loadmat('test.mat')\n",
    "testY_data = torch.FloatTensor(np_test_data['testdata'])"
   ]
  },
  {
   "cell_type": "code",
   "execution_count": 2,
   "metadata": {},
   "outputs": [
    {
     "name": "stdout",
     "output_type": "stream",
     "text": [
      "starting loading the data\n"
     ]
    }
   ],
   "source": [
    "BATCH_SIZE = 100\n",
    "\n",
    "print('starting loading the data')\n",
    "np_test_data = scipy.io.loadmat('test.mat')\n",
    "testX_data = torch.FloatTensor(np_test_data['testxdata'])\n",
    "testY_data = torch.FloatTensor(np_test_data['testdata'])\n",
    "\n",
    "test_loader = Data.DataLoader(\n",
    "   dataset=Data.TensorDataset(testX_data, testY_data),\n",
    "    batch_size=BATCH_SIZE,\n",
    "    shuffle=False,\n",
    "    num_workers=2,\n",
    "   drop_last=False,\n",
    ")"
   ]
  },
  {
   "cell_type": "code",
   "execution_count": 3,
   "metadata": {},
   "outputs": [
    {
     "name": "stdout",
     "output_type": "stream",
     "text": [
      "compling the network\n"
     ]
    }
   ],
   "source": [
    "print('compling the network')\n",
    "\n",
    "class DanQ(nn.Module):\n",
    "    def __init__(self, ):\n",
    "        super(DanQ, self).__init__()\n",
    "        self.Conv1 = nn.Conv1d(in_channels=4, out_channels=320, kernel_size=13)\n",
    "        #nn.init.uniform_(self.Conv1.weight, -0.05, 0.05)\n",
    "        self.Maxpool = nn.MaxPool1d(kernel_size=13, stride=6)\n",
    "        self.Drop1 = nn.Dropout(p=0.2)\n",
    "        self.BiLSTM = nn.LSTM(input_size=320, hidden_size=320, num_layers=2,\n",
    "                                 batch_first=True,\n",
    "                                 dropout=0.5,\n",
    "                                 bidirectional=True)\n",
    "        self.Linear1 = nn.Linear(163*640, 925)\n",
    "        self.Linear2 = nn.Linear(925, 919)\n",
    "\n",
    "\n",
    "    def forward(self, input):\n",
    "        x = self.Conv1(input)\n",
    "        x = F.relu(x)\n",
    "        x = self.Maxpool(x)\n",
    "        x = self.Drop1(x)\n",
    "        x_x = torch.transpose(x, 1, 2)\n",
    "        x, (h_n,h_c) = self.BiLSTM(x_x)\n",
    "        #x, h_n = self.BiGRU(x_x)\n",
    "        x = x.contiguous().view(-1, 163*640)\n",
    "        x = self.Linear1(x)\n",
    "        x = F.relu(x)\n",
    "        x = self.Linear2(x)\n",
    "        #x = torch.sigmoid(x)\n",
    "        return x"
   ]
  },
  {
   "cell_type": "code",
   "execution_count": 4,
   "metadata": {},
   "outputs": [],
   "source": [
    "danq = DanQ()\n",
    "danq.load_state_dict(torch.load('model/model0512/danq_net_params_4.pkl'))\n",
    "danq.cuda()\n",
    "loss_func = nn.BCEWithLogitsLoss()"
   ]
  },
  {
   "cell_type": "code",
   "execution_count": 5,
   "metadata": {},
   "outputs": [
    {
     "name": "stdout",
     "output_type": "stream",
     "text": [
      "starting testing\n",
      "test_loss: 0.05987\n"
     ]
    }
   ],
   "source": [
    "print('starting testing')\n",
    "# training\n",
    "pred_y = np.zeros([455024, 919])\n",
    "i=0;j = 0\n",
    "test_losses = []\n",
    "danq.eval()\n",
    "for step, (seq, label) in enumerate(test_loader):\n",
    "    #print(step)\n",
    "    seq = seq.cuda()\n",
    "    label = label.cuda()\n",
    "\n",
    "    test_output = danq(seq)\n",
    "    cross_loss = loss_func(test_output, label)\n",
    "    test_losses.append(cross_loss.item())\n",
    "    \n",
    "    test_output = torch.sigmoid(test_output.cpu().data)     \n",
    "\n",
    "    if(step<4550):\n",
    "        for i, j in zip(range(step*100, (step+1)*100),range(0, 100)):\n",
    "            pred_y[i, :] = test_output.numpy()[j, :]\n",
    "    else:\n",
    "        for i,j in zip(range(455000,455024),range(0,24)):\n",
    "            pred_y[i, :] = test_output.numpy()[j, :]\n",
    "        #print(test_output.numpy())\n",
    "        \n",
    "    \n",
    "test_loss = np.average(test_losses)\n",
    "print_msg = (f'test_loss: {test_loss:.5f}')  \n",
    "print(print_msg)    \n",
    "#np.save('0522pred.npy',pred_y)"
   ]
  },
  {
   "cell_type": "code",
   "execution_count": null,
   "metadata": {},
   "outputs": [],
   "source": [
    "pred_y = np.load('pred/0419pred.npy')"
   ]
  },
  {
   "cell_type": "code",
   "execution_count": 7,
   "metadata": {},
   "outputs": [],
   "source": [
    "aucs_file = open('aucs_pyDanQ_13bp.txt', 'w')\n",
    "aucs_file.write('pyDanQ AU ROC\\tpyDanQ AU PR')\n",
    "for i in range(0,125):\n",
    "    aucs_file.write('%.5f\\t%.5f' % (roc_auc_score(testY_data.data[:, i], pred_y[:, i]),average_precision_score(testY_data.data[:, i], pred_y[:, i])))\n",
    "    aucs_file.write('\\n')\n",
    "for i in range(125,598):\n",
    "    aucs_file.write('%.5f\\t%.5f' % (roc_auc_score(testY_data.data[:, i], pred_y[:, i]),average_precision_score(testY_data.data[:, i], pred_y[:, i])))\n",
    "    aucs_file.write('\\n')\n",
    "for i in range(599,815):\n",
    "    aucs_file.write('%.5f\\t%.5f' % (roc_auc_score(testY_data.data[:, i], pred_y[:, i]),average_precision_score(testY_data.data[:, i], pred_y[:, i])))\n",
    "    aucs_file.write('\\n')\n",
    "for i in range(815,919):\n",
    "    aucs_file.write('%.5f\\t%.5f' % (roc_auc_score(testY_data.data[:, i], pred_y[:, i]),average_precision_score(testY_data.data[:, i], pred_y[:, i])))\n",
    "    aucs_file.write('\\n')\n",
    "aucs_file.close()"
   ]
  },
  {
   "cell_type": "code",
   "execution_count": null,
   "metadata": {},
   "outputs": [],
   "source": [
    "roc_auc_score(testY_data.data[:, 598], pred_y[:, 598])"
   ]
  },
  {
   "cell_type": "code",
   "execution_count": null,
   "metadata": {},
   "outputs": [],
   "source": [
    "for i in (211,277):\n",
    "    precision, recall, thresholds = precision_recall_curve(testY_data.data[:, i], pred_y[:, i])\n",
    "    ap = average_precision_score(testY_data.data[:, i], pred_y[:, i])\n",
    "    plt.plot(recall, precision, lw=1, label='%s(AP = %0.4f)' % (str(i),ap))\n",
    "    plt.plot(recall, precision, lw=1)\n",
    "    plt.xlabel('Recall')\n",
    "    plt.ylabel('Precision')\n",
    "    plt.xlim([0, 1.05])\n",
    "    plt.ylim([0, 1.05])\n",
    "    \n",
    "plt.title('pr_curve')\n",
    "plt.legend()\n",
    "plt.show()"
   ]
  },
  {
   "cell_type": "code",
   "execution_count": null,
   "metadata": {},
   "outputs": [],
   "source": [
    "for i in (211,277):\n",
    "    fpr, tpr, thresholds = roc_curve(testY_data.data[:, i], pred_y[:, i])\n",
    "    roc_auc = auc(fpr, tpr)\n",
    "    plt.plot(fpr, tpr, lw=1, label='%s(AUC = %0.4f)' % (str(i),roc_auc))\n",
    "    plt.plot(fpr, tpr, lw=1)\n",
    "    plt.plot([0, 1], [0, 1], '--', color=(0.6, 0.6, 0.6))\n",
    "    plt.xlim([0, 1.05])\n",
    "    plt.ylim([0, 1.05])\n",
    "    plt.xlabel('False Positive Rate')\n",
    "    plt.ylabel('True Positive Rate')\n",
    "    \n",
    "plt.title('roc_curve')\n",
    "plt.legend()\n",
    "plt.show()"
   ]
  },
  {
   "cell_type": "code",
   "execution_count": null,
   "metadata": {},
   "outputs": [],
   "source": [
    "ap_=[]\n",
    "for i in range(0,125):\n",
    "    ap_.append(average_precision_score(testY_data.data[:, i], pred_y[:, i]))\n",
    "ap = np.average(ap_)\n",
    "print_msg = (f'ap_DNase: {ap:.5f}')  \n",
    "print(print_msg)\n",
    "ap_=[]\n",
    "for i in range(125,598):\n",
    "    ap_.append(average_precision_score(testY_data.data[:, i], pred_y[:, i]))\n",
    "for i in range(599,815):\n",
    "    ap_.append(average_precision_score(testY_data.data[:, i], pred_y[:, i]))\n",
    "ap = np.average(ap_)\n",
    "print_msg = (f'ap_TFBinding: {ap:.5f}')  \n",
    "print(print_msg)\n",
    "ap_=[]\n",
    "for i in range(815,919):\n",
    "    ap_.append(average_precision_score(testY_data.data[:, i], pred_y[:, i]))\n",
    "ap = np.average(ap_)\n",
    "print_msg = (f'ap_Histone: {ap:.5f}')  \n",
    "print(print_msg)"
   ]
  },
  {
   "cell_type": "code",
   "execution_count": null,
   "metadata": {},
   "outputs": [],
   "source": [
    "auc_=[]\n",
    "for i in range(0,125):\n",
    "    auc_.append(roc_auc_score(testY_data.data[:, i], pred_y[:, i]))\n",
    "ap = np.average(auc_)\n",
    "print_msg = (f'auc_DNase: {ap:.5f}')  \n",
    "print(print_msg)\n",
    "auc_=[]\n",
    "for i in range(125,598):\n",
    "    auc_.append(roc_auc_score(testY_data.data[:, i], pred_y[:, i]))\n",
    "for i in range(599,815):\n",
    "    auc_.append(roc_auc_score(testY_data.data[:, i], pred_y[:, i]))\n",
    "ap = np.average(auc_)\n",
    "print_msg = (f'auc_TFBinding: {ap:.5f}')  \n",
    "print(print_msg)\n",
    "auc_=[]\n",
    "for i in range(815,919):\n",
    "    auc_.append(roc_auc_score(testY_data.data[:, i], pred_y[:, i]))\n",
    "ap = np.average(auc_)\n",
    "print_msg = (f'auc_Histone: {ap:.5f}')  \n",
    "print(print_msg)"
   ]
  },
  {
   "cell_type": "code",
   "execution_count": null,
   "metadata": {},
   "outputs": [],
   "source": [
    "num=910\n",
    "print(roc_auc_score(testY_data.data[:, num], pred_y[:, num]))\n",
    "print(average_precision_score(testY_data.data[:, num], pred_y[:, num]))"
   ]
  },
  {
   "cell_type": "code",
   "execution_count": null,
   "metadata": {},
   "outputs": [],
   "source": [
    "print('printing the pr_curve_125_DNase')\n",
    "for i in range(0,125):\n",
    "    precision, recall, thresholds = precision_recall_curve(testY_data.data[:, i], pred_y[:, i])\n",
    "    #ap = average_precision_score(testY_data.data[:, i], pred_y[:, i])\n",
    "    #plt.plot(recall, precision, lw=1, label='%s(AP = %0.4f)' % (str(i),ap))\n",
    "    plt.plot(recall, precision, lw=1)\n",
    "    plt.xlabel('Recall')\n",
    "    plt.ylabel('Precision')\n",
    "    plt.xlim([0, 1.05])\n",
    "    plt.ylim([0, 1.05])\n",
    "    \n",
    "plt.title('pr_curve_125_DNase')\n",
    "plt.savefig('pr_curve_125_DNase.svg')\n",
    "plt.show()\n"
   ]
  },
  {
   "cell_type": "code",
   "execution_count": null,
   "metadata": {},
   "outputs": [],
   "source": [
    "print('printing the pr_curve_690_TFbinding')\n",
    "for i in range(125,815):\n",
    "    precision, recall, thresholds = precision_recall_curve(testY_data.data[:, i], pred_y[:, i])\n",
    "    #ap = average_precision_score(testY_data.data[:, i], pred_y[:, i])\n",
    "    plt.plot(recall, precision, lw=1)\n",
    "    plt.xlabel('Recall')\n",
    "    plt.ylabel('Precision')\n",
    "    plt.xlim([0, 1.05])\n",
    "    plt.ylim([0, 1.05])\n",
    "    \n",
    "plt.title('pr_curve_690_TFbinding')\n",
    "plt.savefig('pr_curve_690_TFbinding.png')\n",
    "plt.show()"
   ]
  },
  {
   "cell_type": "code",
   "execution_count": null,
   "metadata": {},
   "outputs": [],
   "source": [
    "\n",
    "\n",
    "print('printing the pr_curve_104_Histone')\n",
    "for i in range(815,919):\n",
    "    precision, recall, thresholds = precision_recall_curve(testY_data.data[:, i], pred_y[:, i])\n",
    "    #ap = average_precision_score(testY_data.data[:, i], pred_y[:, i])\n",
    "    plt.plot(recall, precision, lw=1)\n",
    "    plt.xlabel('Recall')\n",
    "    plt.ylabel('Precision')\n",
    "    plt.xlim([0, 1.05])\n",
    "    plt.ylim([0, 1.05])\n",
    "    \n",
    "plt.title('pr_curve_104_Histone')\n",
    "plt.savefig('pr_curve_104_Histone.svg')\n",
    "plt.show()\n"
   ]
  },
  {
   "cell_type": "code",
   "execution_count": null,
   "metadata": {},
   "outputs": [],
   "source": [
    "print('printing the roc_curve_125_DNase')\n",
    "for i in range(0,125):\n",
    "    fpr, tpr, thresholds = roc_curve(testY_data.data[:, i], pred_y[:, i])\n",
    "    roc_auc = auc(fpr, tpr)\n",
    "    #plt.plot(fpr, tpr, lw=1, label='%s(AUC = %0.4f)' % (str(i),roc_auc))\n",
    "    plt.plot(fpr, tpr, lw=1)\n",
    "    plt.plot([0, 1], [0, 1], '--', color=(0.6, 0.6, 0.6))\n",
    "    plt.xlim([0, 1.05])\n",
    "    plt.ylim([0, 1.05])\n",
    "    plt.xlabel('False Positive Rate')\n",
    "    plt.ylabel('True Positive Rate')\n",
    "    \n",
    "plt.title('roc_curve_125_DNase')\n",
    "plt.savefig('roc_curve_125_DNase.svg')\n",
    "plt.show()\n",
    "\n",
    "print('printing the roc_curve_690_TFbinding')\n",
    "for i in range(125,815):\n",
    "    fpr, tpr, thresholds = roc_curve(testY_data.data[:, i], pred_y[:, i])\n",
    "    #roc_auc = auc(fpr, tpr)\n",
    "    plt.plot(fpr, tpr, lw=1)\n",
    "    plt.plot([0, 1], [0, 1], '--', color=(0.6, 0.6, 0.6))\n",
    "    plt.xlim([0, 1.05])\n",
    "    plt.ylim([0, 1.05])\n",
    "    plt.xlabel('False Positive Rate')\n",
    "    plt.ylabel('True Positive Rate')\n",
    "    \n",
    "plt.title('roc_curve_690_TFbinding')\n",
    "plt.savefig('roc_curve_690_TFbinding.svg')\n",
    "plt.show()\n",
    "\n",
    "print('printing the roc_curve_104_Histone')\n",
    "for i in range(815,919):\n",
    "    fpr, tpr, thresholds = roc_curve(testY_data.data[:, i], pred_y[:, i])\n",
    "    #roc_auc = auc(fpr, tpr)\n",
    "    plt.plot(fpr, tpr, lw=1)\n",
    "    plt.plot([0, 1], [0, 1], '--', color=(0.6, 0.6, 0.6))\n",
    "    plt.xlim([0, 1.05])\n",
    "    plt.ylim([0, 1.05])\n",
    "    plt.xlabel('False Positive Rate')\n",
    "    plt.ylabel('True Positive Rate')\n",
    "    \n",
    "plt.title('roc_curve_104_Histone')\n",
    "plt.savefig('roc_curve_104_Histone.svg')\n",
    "plt.show()"
   ]
  },
  {
   "cell_type": "code",
   "execution_count": null,
   "metadata": {},
   "outputs": [],
   "source": [
    "import scipy.io\n",
    "import numpy as np\n",
    "from sklearn.metrics import roc_auc_score,roc_curve,auc,average_precision_score,precision_recall_curve"
   ]
  },
  {
   "cell_type": "code",
   "execution_count": null,
   "metadata": {},
   "outputs": [],
   "source": [
    "print('starting loading the data')\n",
    "np_test_data = scipy.io.loadmat('test.mat')\n",
    "testY_data = np_test_data['testdata']\n",
    "pred_y = np.load('0419pred.npy')"
   ]
  },
  {
   "cell_type": "code",
   "execution_count": null,
   "metadata": {},
   "outputs": [],
   "source": [
    "print('125_DNase')\n",
    "auc_5=0\n",
    "auc_6=0\n",
    "auc_7=0\n",
    "auc_8=0\n",
    "auc_9=0\n",
    "for i in range(0,125):\n",
    "    if roc_auc_score(testY_data[:, i], pred_y[:, i])>0.9:\n",
    "        auc_9 +=1\n",
    "    elif roc_auc_score(testY_data[:, i], pred_y[:, i])>0.8 and roc_auc_score(testY_data[:, i], pred_y[:, i])<0.9:\n",
    "        auc_8 +=1\n",
    "    elif roc_auc_score(testY_data[:, i], pred_y[:, i])>0.7 and roc_auc_score(testY_data[:, i], pred_y[:, i])<0.8:\n",
    "        auc_7 +=1\n",
    "    elif roc_auc_score(testY_data[:, i], pred_y[:, i])>0.6 and roc_auc_score(testY_data[:, i], pred_y[:, i])<0.7:\n",
    "        auc_6 +=1\n",
    "    elif roc_auc_score(testY_data[:, i], pred_y[:, i])>0.5 and roc_auc_score(testY_data[:, i], pred_y[:, i])<0.6:\n",
    "        auc_5 +=1\n",
    "print_msg = (f'auc_9: {auc_9:.3f}'+'\\n'\n",
    "             f'auc_8: {auc_8:.3f}'+'\\n'\n",
    "             f'auc_7: {auc_7:.3f}'+'\\n'\n",
    "             f'auc_6: {auc_6:.3f}'+'\\n'\n",
    "             f'auc_5: {auc_5:.3f}')  \n",
    "print(print_msg)"
   ]
  },
  {
   "cell_type": "code",
   "execution_count": null,
   "metadata": {},
   "outputs": [],
   "source": [
    "print('690_TFbinding')\n",
    "auc_5=0\n",
    "auc_6=0\n",
    "auc_7=0\n",
    "auc_8=0\n",
    "auc_9=0\n",
    "for i in range(125,598):\n",
    "    if roc_auc_score(testY_data[:, i], pred_y[:, i])>0.9:\n",
    "        auc_9 +=1\n",
    "    elif roc_auc_score(testY_data[:, i], pred_y[:, i])>0.8 and roc_auc_score(testY_data[:, i], pred_y[:, i])<0.9:\n",
    "        auc_8 +=1\n",
    "    elif roc_auc_score(testY_data[:, i], pred_y[:, i])>0.7 and roc_auc_score(testY_data[:, i], pred_y[:, i])<0.8:\n",
    "        auc_7 +=1\n",
    "    elif roc_auc_score(testY_data[:, i], pred_y[:, i])>0.6 and roc_auc_score(testY_data[:, i], pred_y[:, i])<0.7:\n",
    "        auc_6 +=1\n",
    "    elif roc_auc_score(testY_data[:, i], pred_y[:, i])>0.5 and roc_auc_score(testY_data[:, i], pred_y[:, i])<0.6:\n",
    "        auc_5 +=1\n",
    "for i in range(599,815):\n",
    "    if roc_auc_score(testY_data[:, i], pred_y[:, i])>0.9:\n",
    "        auc_9 +=1\n",
    "    elif roc_auc_score(testY_data[:, i], pred_y[:, i])>0.8 and roc_auc_score(testY_data[:, i], pred_y[:, i])<0.9:\n",
    "        auc_8 +=1\n",
    "    elif roc_auc_score(testY_data[:, i], pred_y[:, i])>0.7 and roc_auc_score(testY_data[:, i], pred_y[:, i])<0.8:\n",
    "        auc_7 +=1\n",
    "    elif roc_auc_score(testY_data[:, i], pred_y[:, i])>0.6 and roc_auc_score(testY_data[:, i], pred_y[:, i])<0.7:\n",
    "        auc_6 +=1\n",
    "    elif roc_auc_score(testY_data[:, i], pred_y[:, i])>0.5 and roc_auc_score(testY_data[:, i], pred_y[:, i])<0.6:\n",
    "        auc_5 +=1\n",
    "print_msg = (f'auc_9: {auc_9:.3f}'+'\\n'\n",
    "             f'auc_8: {auc_8:.3f}'+'\\n'\n",
    "             f'auc_7: {auc_7:.3f}'+'\\n'\n",
    "             f'auc_6: {auc_6:.3f}'+'\\n'\n",
    "             f'auc_5: {auc_5:.3f}')  \n",
    "print(print_msg)"
   ]
  },
  {
   "cell_type": "code",
   "execution_count": null,
   "metadata": {},
   "outputs": [],
   "source": [
    "print('104_Histone')\n",
    "auc_5=0\n",
    "auc_6=0\n",
    "auc_7=0\n",
    "auc_8=0\n",
    "auc_9=0\n",
    "for i in range(815,919):\n",
    "    if roc_auc_score(testY_data[:, i], pred_y[:, i])>0.9:\n",
    "        auc_9 +=1\n",
    "    elif roc_auc_score(testY_data[:, i], pred_y[:, i])>0.8 and roc_auc_score(testY_data[:, i], pred_y[:, i])<0.9:\n",
    "        auc_8 +=1\n",
    "    elif roc_auc_score(testY_data[:, i], pred_y[:, i])>0.7 and roc_auc_score(testY_data[:, i], pred_y[:, i])<0.8:\n",
    "        auc_7 +=1\n",
    "    elif roc_auc_score(testY_data[:, i], pred_y[:, i])>0.6 and roc_auc_score(testY_data[:, i], pred_y[:, i])<0.7:\n",
    "        auc_6 +=1\n",
    "    elif roc_auc_score(testY_data[:, i], pred_y[:, i])>0.5 and roc_auc_score(testY_data[:, i], pred_y[:, i])<0.6:\n",
    "        auc_5 +=1\n",
    "print_msg = (f'auc_9: {auc_9:.3f}'+'\\n'\n",
    "             f'auc_8: {auc_8:.3f}'+'\\n'\n",
    "             f'auc_7: {auc_7:.3f}'+'\\n'\n",
    "             f'auc_6: {auc_6:.3f}'+'\\n'\n",
    "             f'auc_5: {auc_5:.3f}')  \n",
    "print(print_msg)"
   ]
  }
 ],
 "metadata": {
  "kernelspec": {
   "display_name": "Python 3",
   "language": "python",
   "name": "python3"
  },
  "language_info": {
   "codemirror_mode": {
    "name": "ipython",
    "version": 3
   },
   "file_extension": ".py",
   "mimetype": "text/x-python",
   "name": "python",
   "nbconvert_exporter": "python",
   "pygments_lexer": "ipython3",
   "version": "3.6.8"
  }
 },
 "nbformat": 4,
 "nbformat_minor": 2
}
